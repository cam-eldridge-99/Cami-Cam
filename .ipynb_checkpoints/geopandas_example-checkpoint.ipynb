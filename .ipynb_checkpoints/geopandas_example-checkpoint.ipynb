{
 "cells": [
  {
   "cell_type": "markdown",
   "metadata": {},
   "source": [
    "<img src=\"https://media.licdn.com/dms/image/C561BAQEVCDe44Tt-kQ/company-background_10000/0?e=2159024400&v=beta&t=BglJGcQeWT2zCaG1sbW30jo9YOGOUCqQ6TOPnWPlra4\"/>"
   ]
  },
  {
   "cell_type": "markdown",
   "metadata": {},
   "source": [
    "# Geopandas tutorial"
   ]
  },
  {
   "attachments": {},
   "cell_type": "markdown",
   "metadata": {},
   "source": [
    "Installing geopandas may lead to dependency conflicts.\n",
    "Install a new environment called GeoPower and install the following libraries.\n",
    "- Pandas\n",
    "- GeoPandas\n",
    "- PandaPower\n",
    "- Matplotlib\n",
    "- Jupyterlab\n",
    "- Contextily \n",
    "\n",
    "If you are comfortable using the command line, the below may help:\n",
    "```\n",
    "    conda create -n GeoPower                             \n",
    "    conda activate GeoPower\n",
    "    conda config --env --add channels conda-forge \n",
    "    conda config --env --set channel_priority strict\n",
    "    conda install pandas geopandas pandapower matplotlib jupyterlab contextily\n",
    "```"
   ]
  },
  {
   "cell_type": "code",
   "execution_count": 1,
   "metadata": {},
   "outputs": [],
   "source": [
    "# Import geopandas and matplotlib\n",
    "\n",
    "import pandas as pd\n",
    "import geopandas as gpd\n",
    "import matplotlib.pyplot as plt\n"
   ]
  },
  {
   "cell_type": "markdown",
   "metadata": {},
   "source": [
    "## Importing data"
   ]
  },
  {
   "cell_type": "markdown",
   "metadata": {},
   "source": [
    "We are now going to display a map of the world. See this [link](https://geopandas.org/mapping.html) to learn more about this process\n",
    "\n",
    "There are some built in layers and within geopandas that you might find useful. However, for this exercise, **download the natural earth [low res countries dataset](https://www.naturalearthdata.com/downloads/110m-cultural-vectors/110m-admin-0-countries/) and import it using the code below.**"
   ]
  },
  {
   "cell_type": "code",
   "execution_count": null,
   "metadata": {},
   "outputs": [],
   "source": [
    "# Import the file using the 'read_file' function. The file has cultural features, lets just keep some of them.\n",
    "world = gpd.read_file(\"filepath_to_shapefile.shp\",\n",
    "                      usecols=[\"NAME\", \"NAME_LONG\", \"ADM0_A3\", \"POP_EST\", \"CONTINENT\", \"REGION_WB\",\n",
    "                               \"GDP_MD\", \"ECONOMY 6.\", \"INCOME_GRP 4.\",\n",
    "                               \"geometry\"])\n",
    "\n",
    "# Notice the column geometry - that is where the map components are stored.\n",
    "world.head()\n"
   ]
  },
  {
   "cell_type": "code",
   "execution_count": null,
   "metadata": {},
   "outputs": [],
   "source": [
    "# basic plotting is just as easy as pandas\n",
    "world.plot()\n"
   ]
  },
  {
   "cell_type": "markdown",
   "metadata": {},
   "source": [
    "## Coordinate Reference System\n",
    "All geodata in the form of shapefiles from reliable sources should have a crs defined. \n",
    "If you create your own data, make sure you set the crs before exporting it and sharing using the .set_crs() function."
   ]
  },
  {
   "cell_type": "code",
   "execution_count": null,
   "metadata": {},
   "outputs": [],
   "source": [
    "# You can use a basic command to determine the coordinate reference system.\n",
    "# For more info, you can look at https://kodu.ut.ee/~kmoch/geopython2018/lessons/L2/projections.html\n",
    "world.crs\n"
   ]
  },
  {
   "cell_type": "markdown",
   "metadata": {},
   "source": [
    "**1. Calculate the area of each country in $km^{2}$. Print the top 5 countries by area.**\n",
    "\n",
    "The original CRS is a geographic CRS with angular units, you need to first change the crs to a planar crs - which type is most suitable?\n",
    "\n",
    "More info can be found in the docs [here](https://geopandas.org/en/stable/docs/reference/api/geopandas.GeoSeries.area.html).\n",
    "\n",
    "**2. Create a plot in your new crs - how is this different to before?**"
   ]
  },
  {
   "cell_type": "markdown",
   "metadata": {},
   "source": [
    "## Merging data"
   ]
  },
  {
   "cell_type": "markdown",
   "metadata": {},
   "source": [
    "Import the dataset of annual renewable electricity generation by country from [OurWorldInData](https://ourworldindata.org/explorers/energy?tab=table&facet=none&country=USA~GBR~CHN~OWID_WRL~IND~BRA~ZAF&hideControls=false&Total+or+Breakdown=Select+a+source&Energy+or+Electricity=Electricity+only&Metric=Annual+generation&Select+a+source=Renewables) using pandas in the code below."
   ]
  },
  {
   "cell_type": "code",
   "execution_count": 2,
   "metadata": {},
   "outputs": [],
   "source": [
    "aeg = pd.read_csv(\"../Data/electricity-renewables.csv\")\n",
    "aeg = aeg[aeg[\"Year\"]==2019]"
   ]
  },
  {
   "cell_type": "code",
   "execution_count": 3,
   "metadata": {},
   "outputs": [
    {
     "data": {
      "text/html": [
       "<div>\n",
       "<style scoped>\n",
       "    .dataframe tbody tr th:only-of-type {\n",
       "        vertical-align: middle;\n",
       "    }\n",
       "\n",
       "    .dataframe tbody tr th {\n",
       "        vertical-align: top;\n",
       "    }\n",
       "\n",
       "    .dataframe thead th {\n",
       "        text-align: right;\n",
       "    }\n",
       "</style>\n",
       "<table border=\"1\" class=\"dataframe\">\n",
       "  <thead>\n",
       "    <tr style=\"text-align: right;\">\n",
       "      <th></th>\n",
       "      <th>Entity</th>\n",
       "      <th>Code</th>\n",
       "      <th>Year</th>\n",
       "      <th>Electricity from renewables (TWh)</th>\n",
       "    </tr>\n",
       "  </thead>\n",
       "  <tbody>\n",
       "    <tr>\n",
       "      <th>19</th>\n",
       "      <td>ASEAN (Ember)</td>\n",
       "      <td>NaN</td>\n",
       "      <td>2019</td>\n",
       "      <td>236.83000</td>\n",
       "    </tr>\n",
       "    <tr>\n",
       "      <th>42</th>\n",
       "      <td>Afghanistan</td>\n",
       "      <td>AFG</td>\n",
       "      <td>2019</td>\n",
       "      <td>0.89000</td>\n",
       "    </tr>\n",
       "    <tr>\n",
       "      <th>93</th>\n",
       "      <td>Africa</td>\n",
       "      <td>NaN</td>\n",
       "      <td>2019</td>\n",
       "      <td>176.95999</td>\n",
       "    </tr>\n",
       "    <tr>\n",
       "      <th>145</th>\n",
       "      <td>Africa (EI)</td>\n",
       "      <td>NaN</td>\n",
       "      <td>2019</td>\n",
       "      <td>177.24553</td>\n",
       "    </tr>\n",
       "    <tr>\n",
       "      <th>168</th>\n",
       "      <td>Africa (Ember)</td>\n",
       "      <td>NaN</td>\n",
       "      <td>2019</td>\n",
       "      <td>176.96000</td>\n",
       "    </tr>\n",
       "  </tbody>\n",
       "</table>\n",
       "</div>"
      ],
      "text/plain": [
       "             Entity Code  Year  Electricity from renewables (TWh)\n",
       "19    ASEAN (Ember)  NaN  2019                          236.83000\n",
       "42      Afghanistan  AFG  2019                            0.89000\n",
       "93           Africa  NaN  2019                          176.95999\n",
       "145     Africa (EI)  NaN  2019                          177.24553\n",
       "168  Africa (Ember)  NaN  2019                          176.96000"
      ]
     },
     "execution_count": 3,
     "metadata": {},
     "output_type": "execute_result"
    }
   ],
   "source": [
    "aeg.head()"
   ]
  },
  {
   "cell_type": "markdown",
   "metadata": {},
   "source": [
    "**3. Merge you GeoDataFrame with the annual electricity generation dataframe.**"
   ]
  },
  {
   "cell_type": "code",
   "execution_count": null,
   "metadata": {},
   "outputs": [],
   "source": [
    "# merge data\n",
    "combined = gpd.merge()"
   ]
  },
  {
   "cell_type": "markdown",
   "metadata": {},
   "source": [
    "## Choropleth\n",
    "**4. Calculate a new figure of merit for electricty generation e.g. TWh/person, TWh/GDP, TWh/area.**\n",
    "\n",
    "**5. Plot a [choropleth](https://geopandas.org/en/stable/docs/user_guide/mapping.html#choropleth-maps) of your renewable electricity figure of merit with a legend.**"
   ]
  },
  {
   "cell_type": "code",
   "execution_count": null,
   "metadata": {},
   "outputs": [],
   "source": [
    "fig, ax = plt.subplots(1, 1)\n",
    "world.plot(column='pop_est', ax=ax, legend=True)\n"
   ]
  },
  {
   "cell_type": "markdown",
   "metadata": {},
   "source": [
    "*Extension*\n",
    "\n",
    "***6. Try adding a basemap using the contextily library following [this guide](https://geopandas.org/en/stable/gallery/plotting_basemap_background.html)***\n",
    "\n",
    "***7. For the 5 highest ranked countries, plot the centroids of the countries and attach labels with with country names.***"
   ]
  },
  {
   "cell_type": "markdown",
   "metadata": {},
   "source": [
    "## Exporting data"
   ]
  },
  {
   "cell_type": "code",
   "execution_count": 2,
   "metadata": {},
   "outputs": [],
   "source": [
    "# Save your geodataframe with figure of merit to a new shape file\n",
    "# Read https://geopandas.org/io.html#writing-spatial-data\n",
    "\n"
   ]
  },
  {
   "cell_type": "code",
   "execution_count": null,
   "metadata": {},
   "outputs": [],
   "source": []
  }
 ],
 "metadata": {
  "kernelspec": {
   "display_name": "Python 3 (ipykernel)",
   "language": "python",
   "name": "python3"
  },
  "language_info": {
   "codemirror_mode": {
    "name": "ipython",
    "version": 3
   },
   "file_extension": ".py",
   "mimetype": "text/x-python",
   "name": "python",
   "nbconvert_exporter": "python",
   "pygments_lexer": "ipython3",
   "version": "3.12.6"
  }
 },
 "nbformat": 4,
 "nbformat_minor": 4
}
