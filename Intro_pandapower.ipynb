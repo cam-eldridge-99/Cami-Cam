{
 "cells": [
  {
   "cell_type": "markdown",
   "metadata": {},
   "source": [
    "<img src=\"https://media.licdn.com/dms/image/C561BAQEVCDe44Tt-kQ/company-background_10000/0?e=2159024400&v=beta&t=BglJGcQeWT2zCaG1sbW30jo9YOGOUCqQ6TOPnWPlra4\"/>"
   ]
  },
  {
   "cell_type": "markdown",
   "metadata": {},
   "source": [
    "# Introduction to pandapower \n",
    "\n",
    "This is a very scaled down introduction to *pandapower* where we load in a JSON file using *pandapower* and use our previous knowledge of Pandas to explore and plot the data.\n",
    "\n",
    "You can access good 'Getting Started' examples and the documentation via the [pandapower website](https://www.pandapower.org/start/)"
   ]
  },
  {
   "cell_type": "markdown",
   "metadata": {},
   "source": [
    "### Import libraries"
   ]
  },
  {
   "cell_type": "code",
   "execution_count": 54,
   "metadata": {},
   "outputs": [],
   "source": [
    "# Import Pandas and pandapower below. Be sure to import them correctly\n",
    "import pandas as pn\n",
    "import pandapower as pp\n",
    "import numpy\n",
    "import numba"
   ]
  },
  {
   "cell_type": "markdown",
   "metadata": {},
   "source": [
    "### Networks\n",
    "**1. Import the example network saved in 'ThreeBusPlot23.json'. Be sure to add the right path for your file!**"
   ]
  },
  {
   "cell_type": "code",
   "execution_count": 29,
   "metadata": {},
   "outputs": [],
   "source": [
    "# Use padapower to load a the file called \"ThreeBusPlot.json\" and assign to a variable called 'net'\n",
    "net = pp.from_json(\"Data/ThreeBusPlot23.json\")"
   ]
  },
  {
   "cell_type": "markdown",
   "metadata": {},
   "source": [
    "**2. Executing simply net will provide you with some details of what is contained within the network.**"
   ]
  },
  {
   "cell_type": "code",
   "execution_count": 70,
   "metadata": {
    "scrolled": true
   },
   "outputs": [
    {
     "data": {
      "text/plain": [
       "This pandapower network includes the following parameter tables:\n",
       "   - bus (3 elements)\n",
       "   - load (2 elements)\n",
       "   - ext_grid (1 element)\n",
       "   - line (3 elements)\n",
       "   - line_geodata (3 elements)\n",
       "   - bus_geodata (3 elements)\n",
       " and the following results tables:\n",
       "   - res_bus (3 elements)\n",
       "   - res_line (3 elements)\n",
       "   - res_ext_grid (1 element)\n",
       "   - res_load (2 elements)"
      ]
     },
     "execution_count": 70,
     "metadata": {},
     "output_type": "execute_result"
    }
   ],
   "source": [
    "# calling the network object provides some details of its structure\n",
    "net"
   ]
  },
  {
   "cell_type": "markdown",
   "metadata": {
    "jupyter": {
     "source_hidden": true
    }
   },
   "source": [
    "**3. Print the object type of the 'line' attribute of 'net'. As you can see, under the hood, pandapower uses Dataframes.\n",
    "Call net.line to view the dataframe and its contents.**"
   ]
  },
  {
   "cell_type": "code",
   "execution_count": 72,
   "metadata": {},
   "outputs": [
    {
     "name": "stdout",
     "output_type": "stream",
     "text": [
      "<class 'pandas.core.frame.DataFrame'>\n"
     ]
    }
   ],
   "source": [
    "# print the object type of the line attribute of net\n",
    "print(type(net.line))"
   ]
  },
  {
   "cell_type": "markdown",
   "metadata": {},
   "source": [
    "**4. Now run a power flow on the network using the pandapower.runpp function**"
   ]
  },
  {
   "cell_type": "code",
   "execution_count": 57,
   "metadata": {},
   "outputs": [
    {
     "name": "stderr",
     "output_type": "stream",
     "text": [
      "numba cannot be imported and numba functions are disabled.\n",
      "Probably the execution is slow.\n",
      "Please install numba to gain a massive speedup.\n",
      "(or if you prefer slow execution, set the flag numba=False to avoid this warning!)\n"
     ]
    }
   ],
   "source": [
    "# run a power flow on the network using the pandapower runpp function \n",
    "pp.runpp(net)"
   ]
  },
  {
   "cell_type": "markdown",
   "metadata": {},
   "source": [
    "**5. Explore the underlying data that contains the power flow results**"
   ]
  },
  {
   "cell_type": "code",
   "execution_count": 58,
   "metadata": {},
   "outputs": [],
   "source": [
    "# Set some Dataframe variables up (called: 'df1', 'df2' and 'df3') so that they can be respectively \n",
    "# assigned to the 'line', 'res_line', and 'line_geodata' attributes of 'net'. Note these are shallow copies!\n",
    "df1 = net.line\n",
    "df2 = net.res_line\n",
    "df3 = net.line_geodata"
   ]
  },
  {
   "cell_type": "code",
   "execution_count": 64,
   "metadata": {},
   "outputs": [
    {
     "name": "stdout",
     "output_type": "stream",
     "text": [
      "   name std_type  from_bus  to_bus  length_km  r_ohm_per_km  x_ohm_per_km  \\\n",
      "0  None     None         0       1      484.0        0.0200         0.040   \n",
      "1  None     None         1       2      484.0        0.0125         0.025   \n",
      "2  None     None         2       0      484.0        0.0100         0.030   \n",
      "\n",
      "    c_nf_per_km  g_us_per_km  max_i_ka   df  parallel  type  in_service  \n",
      "0  1.000000e-09          0.0    1000.0  1.0         1  None        True  \n",
      "1  1.000000e-09          0.0    1000.0  1.0         1  None        True  \n",
      "2  1.000000e-09          0.0    1000.0  1.0         1  None        True  \n"
     ]
    }
   ],
   "source": [
    "# explore the contents of the dataframes\n",
    "print(df1)"
   ]
  },
  {
   "cell_type": "code",
   "execution_count": 66,
   "metadata": {},
   "outputs": [
    {
     "name": "stdout",
     "output_type": "stream",
     "text": [
      "   name std_type  from_bus  to_bus  length_km  r_ohm_per_km  x_ohm_per_km  \\\n",
      "0  None     None         0       1      484.0          0.02         0.040   \n",
      "1  None     None         1       2      484.0          0.07         0.025   \n",
      "2  None     None         2       0      484.0          0.01         0.030   \n",
      "\n",
      "    c_nf_per_km  g_us_per_km  max_i_ka   df  parallel  type  in_service  \n",
      "0  1.000000e-09          0.0    1000.0  1.0         1  None        True  \n",
      "1  1.000000e-09          0.0    1000.0  1.0         1  None        True  \n",
      "2  1.000000e-09          0.0    1000.0  1.0         1  None        True  \n"
     ]
    }
   ],
   "source": [
    "# In df1, change the value of 'r_ohm_per_km' from 0.0125 to 0.07. This must be done in only one line.\n",
    "# Once done, check to see if the change has been made.\n",
    "df1.iloc[1,5]=0.07\n",
    "print(df1)"
   ]
  },
  {
   "cell_type": "code",
   "execution_count": 67,
   "metadata": {},
   "outputs": [
    {
     "name": "stdout",
     "output_type": "stream",
     "text": [
      "   name std_type  from_bus  to_bus  length_km  r_ohm_per_km  x_ohm_per_km  \\\n",
      "0  None     None         0       1      484.0          0.02         0.040   \n",
      "1  None     None         1       2      484.0          0.07         0.025   \n",
      "2  None     None         2       0      484.0          0.01         0.030   \n",
      "\n",
      "    c_nf_per_km  g_us_per_km  max_i_ka   df  parallel  type  in_service  \n",
      "0  1.000000e-09          0.0    1000.0  1.0         1  None        True  \n",
      "1  1.000000e-09          0.0    1000.0  1.0         1  None        True  \n",
      "2  1.000000e-09          0.0    1000.0  1.0         1  None        True  \n"
     ]
    }
   ],
   "source": [
    "# Show that the change in 'df1' ALSO changes 'net.line' - Why would this happen?\n",
    "print(net.line)"
   ]
  },
  {
   "cell_type": "markdown",
   "metadata": {},
   "source": [
    "**6. Rerun the power flow on the updated network. Does anything change in the net.res_line?**"
   ]
  },
  {
   "cell_type": "code",
   "execution_count": 68,
   "metadata": {},
   "outputs": [
    {
     "name": "stderr",
     "output_type": "stream",
     "text": [
      "numba cannot be imported and numba functions are disabled.\n",
      "Probably the execution is slow.\n",
      "Please install numba to gain a massive speedup.\n",
      "(or if you prefer slow execution, set the flag numba=False to avoid this warning!)\n"
     ]
    }
   ],
   "source": [
    "# Rerun the power flow on the updated network. Does anything change in the net.res_line?\n",
    "pp.runpp(net)"
   ]
  },
  {
   "cell_type": "markdown",
   "metadata": {},
   "source": [
    "### Plotting"
   ]
  },
  {
   "cell_type": "markdown",
   "metadata": {},
   "source": [
    "**7. From the pandapower.plotting module, import the simple_plotting convenience function and use it to plot the network.**"
   ]
  },
  {
   "cell_type": "code",
   "execution_count": 69,
   "metadata": {},
   "outputs": [],
   "source": [
    "# plot the network using the pandapower convenience function\n",
    "from pandapower.plotting import simple_plot"
   ]
  },
  {
   "cell_type": "markdown",
   "metadata": {},
   "source": [
    "For more examples of basic plotting, take a look at the basic [plotting tutorial](https://github.com/e2nIEE/pandapower/blob/master/tutorials/plotting_basic.ipynb)."
   ]
  },
  {
   "cell_type": "markdown",
   "metadata": {},
   "source": [
    "**8. With reference to [pandapower colormap tutorial](https://github.com/e2nIEE/pandapower/blob/master/tutorials/plotting_colormaps.ipynb), trying plotting a color map highlighting the line loadings for the 3 bus network. Check the lines dataframe to identify a color ranges that will highlight the different line loadings for this particular network loading.**"
   ]
  },
  {
   "cell_type": "code",
   "execution_count": 74,
   "metadata": {},
   "outputs": [
    {
     "data": {
      "image/png": "[encoded data removed]",
      "text/plain": [
       "<Figure size 1000x800 with 1 Axes>"
      ]
     },
     "metadata": {},
     "output_type": "display_data"
    },
    {
     "data": {
      "text/plain": [
       "<Axes: >"
      ]
     },
     "execution_count": 74,
     "metadata": {},
     "output_type": "execute_result"
    }
   ],
   "source": [
    "# use collections to plot a colourmap showing line loading\n",
    "simple_plot(net)"
   ]
  },
  {
   "cell_type": "code",
   "execution_count": 75,
   "metadata": {},
   "outputs": [],
   "source": [
    "# plot the same figure on a matplotlib figure making use of the ax keyword within the draw_collections function.\n",
    "import matplotlib.pyplot as plt\n"
   ]
  },
  {
   "cell_type": "markdown",
   "metadata": {},
   "source": [
    "**9. Try adding a basemap to your plot. There are many ways in which you could do this, one library that makes this particularly helpful is contextily. Use the contextily.add_basemap function to add a basemap to your previous plot.**\n",
    "\n",
    "Note: The coordinates within the network is gcs epsg:4326, e.g. lat long"
   ]
  },
  {
   "cell_type": "code",
   "execution_count": 77,
   "metadata": {},
   "outputs": [
    {
     "data": {
      "image/png": "[encoded data removed]",
      "text/plain": [
       "<Figure size 640x480 with 1 Axes>"
      ]
     },
     "metadata": {},
     "output_type": "display_data"
    }
   ],
   "source": [
    "# add a basemap to your plot\n",
    "import contextily as cx\n",
    "fig, ax = plt.subplots()\n",
    "\n",
    "cmap_list=[(0.01,\"green\")]\n",
    "\n",
    "#inclomplete"
   ]
  },
  {
   "cell_type": "markdown",
   "metadata": {},
   "source": [
    "For more geospatial analysis options, you might want to convert your pandapower dataframes into a geopandas dataframe.\n",
    "\n",
    "**10. Create a GeoDataFrame from the bus and bus_geodata dataframes. Your GDF should have a 'geometry' column containing Point objects and have a crs assigned.**"
   ]
  },
  {
   "cell_type": "code",
   "execution_count": 9,
   "metadata": {},
   "outputs": [],
   "source": [
    "# create a GeoDataFrame\n"
   ]
  },
  {
   "cell_type": "markdown",
   "metadata": {},
   "source": [
    "### Timeseries\n",
    "So far, the power flow has been solved for a single timestamp. How might you go about solving for a timeseries of load and generation?\n",
    "\n",
    "**11. Write some pseudo code for a general structure of how you could achieve it.**\n",
    "\n",
    "PandaPower has some built in functions that simplify this for you. Take a look at the [timeseries tutorial](https://github.com/e2nIEE/pandapower/blob/develop/tutorials/time_series.ipynb) if you want more information."
   ]
  },
  {
   "cell_type": "code",
   "execution_count": null,
   "metadata": {},
   "outputs": [],
   "source": []
  }
 ],
 "metadata": {
  "kernelspec": {
   "display_name": "Python 3 (ipykernel)",
   "language": "python",
   "name": "python3"
  },
  "language_info": {
   "codemirror_mode": {
    "name": "ipython",
    "version": 3
   },
   "file_extension": ".py",
   "mimetype": "text/x-python",
   "name": "python",
   "nbconvert_exporter": "python",
   "pygments_lexer": "ipython3",
   "version": "3.12.7"
  }
 },
 "nbformat": 4,
 "nbformat_minor": 4
}
